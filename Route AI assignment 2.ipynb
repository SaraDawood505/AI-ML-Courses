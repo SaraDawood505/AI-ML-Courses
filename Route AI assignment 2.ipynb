{
 "cells": [
  {
   "cell_type": "code",
   "execution_count": 1,
   "id": "8af68f04",
   "metadata": {},
   "outputs": [
    {
     "name": "stdout",
     "output_type": "stream",
     "text": [
      "Type a word: etdytfuyg\n",
      "There is at least one vowel in your word.\n"
     ]
    }
   ],
   "source": [
    "vowels = (\"a\", \"e\", \"i\", \"o\", \"u\")\n",
    "\n",
    "word = input(\"Type a word: \")\n",
    "\n",
    "if any(v in word for v in vowels):\n",
    "    print(\"There is at least one vowel in your word.\")\n",
    "else:\n",
    "    print(\"There is no vowel in your word.\")"
   ]
  },
  {
   "cell_type": "code",
   "execution_count": 2,
   "id": "e26c78cd",
   "metadata": {},
   "outputs": [
    {
     "name": "stdout",
     "output_type": "stream",
     "text": [
      "Enter a string : dsjhguth\n",
      "dsjhguth\n"
     ]
    }
   ],
   "source": [
    "word = input(\"Enter a string : \")\n",
    "lc = 0\n",
    "uc = 0\n",
    "for i in word:\n",
    "    if i.islower():\n",
    "        lc += 1\n",
    "    elif i.isupper():\n",
    "        uc += 1\n",
    "    \n",
    "if lc < uc:\n",
    "    print(word.upper())\n",
    "elif uc < lc:\n",
    "    print(word.lower())"
   ]
  },
  {
   "cell_type": "code",
   "execution_count": 3,
   "id": "7c0707f6",
   "metadata": {},
   "outputs": [
    {
     "name": "stdout",
     "output_type": "stream",
     "text": [
      "Enter Number : 78968574635\n",
      "The given number 78968574635 is not armstrong number\n"
     ]
    }
   ],
   "source": [
    "n=int(input(\"Enter Number : \"))\n",
    "s = n  # assigning input value to the s variable\n",
    "b = len(str(n))\n",
    "sum1 = 0\n",
    "while n != 0:\n",
    "    r = n % 10\n",
    "    sum1 = sum1+(r**b)\n",
    "    n = n//10\n",
    "if s == sum1:\n",
    "    print(\"The given number\", s, \"is armstrong number\")\n",
    "else:\n",
    "    print(\"The given number\", s, \"is not armstrong number\")\n"
   ]
  },
  {
   "cell_type": "code",
   "execution_count": 9,
   "id": "2d4ea698",
   "metadata": {},
   "outputs": [
    {
     "name": "stdout",
     "output_type": "stream",
     "text": [
      "Enter a number250\n",
      "two hundred fifty\n"
     ]
    }
   ],
   "source": [
    "def convert_to_words(num):  \n",
    "    if num == 0:  \n",
    "        return \"zero\"  \n",
    "    ones = [\"\", \"one\", \"two\", \"three\", \"four\", \"five\", \"six\", \"seven\", \"eight\", \"nine\"]  \n",
    "    tens = [\"\", \"\", \"twenty\", \"thirty\", \"forty\", \"fifty\", \"sixty\", \"seventy\", \"eighty\", \"ninety\"]  \n",
    "    teens = [\"ten\", \"eleven\", \"twelve\", \"thirteen\", \"fourteen\", \"fifteen\", \"sixteen\", \"seventeen\", \"eighteen\", \"nineteen\"]  \n",
    "    words = \"\"  \n",
    "    if num>= 1000:  \n",
    "        words += ones[num // 1000] + \" thousand \"  \n",
    "        num %= 1000  \n",
    "    if num>= 100:  \n",
    "        words += ones[num // 100] + \" hundred \"  \n",
    "        num %= 100  \n",
    "    if num>= 10 and num<= 19:  \n",
    "        words += teens[num - 10] + \" \"  \n",
    "        num = 0  \n",
    "    if num >= 20:  \n",
    "        words += tens[num // 10] + \" \"  \n",
    "        num %= 10  \n",
    "    if num>= 1 and num<= 9:  \n",
    "        words += ones[num] + \" \"  \n",
    "    return words.strip()  \n",
    "\n",
    "num = int(input(\"Enter a number\"))      \n",
    "words = convert_to_words(num)  \n",
    "print(words)   "
   ]
  },
  {
   "cell_type": "code",
   "execution_count": 11,
   "id": "0842269a",
   "metadata": {},
   "outputs": [
    {
     "name": "stdout",
     "output_type": "stream",
     "text": [
      "Enter the number of terms: 2345\n",
      "The sum of the series is: 2750685\n"
     ]
    }
   ],
   "source": [
    "def series_sum(n):\n",
    "    result = 0\n",
    "    sign = 1\n",
    "\n",
    "    for i in range(1, n + 1):\n",
    "        term = sign * (i ** 2)\n",
    "        result += term\n",
    "        sign *= -1  \n",
    "\n",
    "    return result\n",
    "\n",
    "n_terms = int(input(\"Enter the number of terms: \"))\n",
    "result_sum = series_sum(n_terms)\n",
    "print(f\"The sum of the series is: {result_sum}\")"
   ]
  },
  {
   "cell_type": "code",
   "execution_count": 14,
   "id": "32d038b5",
   "metadata": {},
   "outputs": [
    {
     "name": "stdout",
     "output_type": "stream",
     "text": [
      "Enter a string: car\n",
      "Number of occurrences of 'car': 1\n",
      "Positions: 1\n"
     ]
    }
   ],
   "source": [
    "def count_and_positions(string):\n",
    "    word = \"car\"\n",
    "    count = 0\n",
    "    positions = []\n",
    "\n",
    "    index = string.find(word)\n",
    "    while index != -1:\n",
    "        count += 1\n",
    "        positions.append(index + 1)  # Adding 1 to convert from 0-based index to 1-based position\n",
    "        index = string.find(word, index + 1)\n",
    "\n",
    "    return count, positions\n",
    "\n",
    "# Accept input from the user\n",
    "user_string = input(\"Enter a string: \")\n",
    "car_count, car_positions = count_and_positions(user_string)\n",
    "\n",
    "if car_count == 0:\n",
    "    print(\"No occurrences of the word 'car' found.\")\n",
    "else:\n",
    "    print(f\"Number of occurrences of 'car': {car_count}\")\n",
    "    print(f\"Positions: {', '.join(map(str, car_positions))}\")"
   ]
  },
  {
   "cell_type": "code",
   "execution_count": 12,
   "id": "96601f4f",
   "metadata": {},
   "outputs": [
    {
     "name": "stdout",
     "output_type": "stream",
     "text": [
      "Enter String : poiuyhgtf\n",
      "The string is not a palindrome.\n"
     ]
    }
   ],
   "source": [
    "my_str = input(\"Enter String : \")\n",
    "my_str = my_str.casefold()\n",
    "rev_str = reversed(my_str)\n",
    "if list(my_str) == list(rev_str):\n",
    "   print(\"The string is a palindrome.\")\n",
    "else:\n",
    "   print(\"The string is not a palindrome.\")"
   ]
  },
  {
   "cell_type": "code",
   "execution_count": 15,
   "id": "a4f006bd",
   "metadata": {},
   "outputs": [
    {
     "name": "stdout",
     "output_type": "stream",
     "text": [
      "Enter number of rows: 4\n",
      "1\n",
      "12\n",
      "123\n",
      "1234\n"
     ]
    }
   ],
   "source": [
    "n = int(input(\"Enter number of rows: \"))\n",
    "\n",
    "for i in range(1,n+1):\n",
    "    for j in range(1, i+1):\n",
    "        print(j, end=\"\")\n",
    "    print()"
   ]
  },
  {
   "cell_type": "code",
   "execution_count": 16,
   "id": "da42cbe5",
   "metadata": {},
   "outputs": [
    {
     "name": "stdout",
     "output_type": "stream",
     "text": [
      "Enter the number of rows: 4\n",
      "* * * * \n",
      "* * * \n",
      "* * \n",
      "* \n"
     ]
    }
   ],
   "source": [
    "def print_pattern(rows):\n",
    "    for i in range(rows, 0, -1):\n",
    "        for j in range(0, i):\n",
    "            print(\"*\", end=\" \")\n",
    "        print()\n",
    "\n",
    "num_rows = int(input(\"Enter the number of rows: \"))\n",
    "print_pattern(num_rows)"
   ]
  },
  {
   "cell_type": "code",
   "execution_count": null,
   "id": "d53f4173",
   "metadata": {},
   "outputs": [],
   "source": []
  }
 ],
 "metadata": {
  "kernelspec": {
   "display_name": "Python 3 (ipykernel)",
   "language": "python",
   "name": "python3"
  },
  "language_info": {
   "codemirror_mode": {
    "name": "ipython",
    "version": 3
   },
   "file_extension": ".py",
   "mimetype": "text/x-python",
   "name": "python",
   "nbconvert_exporter": "python",
   "pygments_lexer": "ipython3",
   "version": "3.11.5"
  }
 },
 "nbformat": 4,
 "nbformat_minor": 5
}
