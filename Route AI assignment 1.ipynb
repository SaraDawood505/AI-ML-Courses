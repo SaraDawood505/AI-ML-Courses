{
 "cells": [
  {
   "cell_type": "code",
   "execution_count": 4,
   "id": "a68f5b33",
   "metadata": {},
   "outputs": [
    {
     "name": "stdout",
     "output_type": "stream",
     "text": [
      "Enter any number to test whether it is odd or even: 2\n",
      "The number is even\n"
     ]
    }
   ],
   "source": [
    "num = int (input('Enter number to test odd or even: ')) \n",
    "if (num % 2) == 0: \n",
    "           print('The number is even') \n",
    "else: \n",
    "           print('The number is odd') "
   ]
  },
  {
   "cell_type": "code",
   "execution_count": 6,
   "id": "b01e7737",
   "metadata": {},
   "outputs": [
    {
     "name": "stdout",
     "output_type": "stream",
     "text": [
      "Enter number 1 : 3\n",
      "Enter number 2 : 2\n",
      "Enter number 3 : 1\n",
      "Largest number = 3\n",
      "Positive number\n"
     ]
    }
   ],
   "source": [
    "a = int (input('Enter number 1 : '))\n",
    "b = int (input('Enter number 2 : ')) \n",
    "c = int (input('Enter number 3 : ')) \n",
    "\n",
    "if (a >= b) and (a >= c): \n",
    "    largest = a \n",
    " \n",
    "elif (b >= a) and (b >= c): \n",
    "    largest = b \n",
    "else: \n",
    "    largest = c\n",
    "print('Largest number = {}'.format(largest))\n",
    "if largest > 0:\n",
    "   print(\"Positive number\")\n",
    "elif largest == 0:\n",
    "   print(\"Zero\")\n",
    "else:\n",
    "   print(\"Negative number\")"
   ]
  },
  {
   "cell_type": "code",
   "execution_count": 7,
   "id": "8a1d8006",
   "metadata": {},
   "outputs": [
    {
     "name": "stdout",
     "output_type": "stream",
     "text": [
      "Enter a character: o\n",
      "The character 'o' is a vowel!\n"
     ]
    }
   ],
   "source": [
    "character = input(\"Enter a character: \")  \n",
    "vowels = ['a', 'e', 'i', 'o', 'u', 'A', 'E', 'I', 'O', 'U']   \n",
    "if character in vowels:  \n",
    "    print(f\"The character '{character}' is a vowel!\")  \n",
    "else:  \n",
    "    print(f\"The character '{character}' is a consonant!\")  "
   ]
  },
  {
   "cell_type": "code",
   "execution_count": 8,
   "id": "f93917b5",
   "metadata": {},
   "outputs": [
    {
     "name": "stdout",
     "output_type": "stream",
     "text": [
      "Enter Number: 368749\n",
      "The Last Digit in a Given Number 368749 = 9\n"
     ]
    }
   ],
   "source": [
    "number = int(input(\"Enter Number: \"))\n",
    "last_digit = number % 10\n",
    "print(\"The Last Digit in a Given Number %d = %d\" %(number, last_digit))"
   ]
  },
  {
   "cell_type": "code",
   "execution_count": 9,
   "id": "22e4c73a",
   "metadata": {},
   "outputs": [
    {
     "name": "stdout",
     "output_type": "stream",
     "text": [
      "Enter Number4\n",
      "Divisible by 2 not divisible by 3\n"
     ]
    }
   ],
   "source": [
    "num = int(input(\"Enter Number\"))\n",
    "if num%2 == 0:\n",
    "   if num%3 == 0:\n",
    "      print (\"Divisible by 3 and 2\")\n",
    "   else:\n",
    "      print (\"Divisible by 2 not divisible by 3\")\n",
    "else:\n",
    "   if num%3 == 0:\n",
    "      print (\"Divisible by 3 not divisible by 2\")\n",
    "   else:\n",
    "      print  (\"Not Divisible by 2 not divisible by 3\")"
   ]
  },
  {
   "cell_type": "code",
   "execution_count": 10,
   "id": "bb52fd58",
   "metadata": {},
   "outputs": [
    {
     "name": "stdout",
     "output_type": "stream",
     "text": [
      "How many total days ? 100\n",
      "How many absent days ? 50\n",
      "You can not take part in the exam\n"
     ]
    }
   ],
   "source": [
    "total_days = int(input (\"How many total days ? \"));\n",
    "absent_days = int(input(\"How many absent days ? \"));\n",
    "percentage_attendence = ((absent_days/total_days)*100);\n",
    "\n",
    "if percentage_attendence > 25:\n",
    "    print (\"You can not take part in the exam\");\n",
    "else:\n",
    "    print (\"You are free to take part in the exam\");"
   ]
  },
  {
   "cell_type": "code",
   "execution_count": 16,
   "id": "93df19c0",
   "metadata": {},
   "outputs": [
    {
     "name": "stdout",
     "output_type": "stream",
     "text": [
      "Market Price : 5000\n",
      "Discount = 10%\n",
      "Price after sale : 4500.0 \n"
     ]
    }
   ],
   "source": [
    "market_price = int(input('Market Price : '))\n",
    "if market_price > 10000 :\n",
    "    discount = 20 \n",
    "if market_price >7000 & market_price <=10000 :\n",
    "    discount = 15\n",
    "if market_price <= 7000 :\n",
    "    discount = 10\n",
    "print('Discount = {}%'.format(discount)) \n",
    "discount_price = (market_price * discount)/100\n",
    "Final_price = market_price - discount_price\n",
    "print('Price after sale : {} '.format(Final_price))"
   ]
  },
  {
   "cell_type": "code",
   "execution_count": null,
   "id": "cf169e03",
   "metadata": {},
   "outputs": [],
   "source": []
  }
 ],
 "metadata": {
  "kernelspec": {
   "display_name": "Python 3 (ipykernel)",
   "language": "python",
   "name": "python3"
  },
  "language_info": {
   "codemirror_mode": {
    "name": "ipython",
    "version": 3
   },
   "file_extension": ".py",
   "mimetype": "text/x-python",
   "name": "python",
   "nbconvert_exporter": "python",
   "pygments_lexer": "ipython3",
   "version": "3.11.5"
  }
 },
 "nbformat": 4,
 "nbformat_minor": 5
}
