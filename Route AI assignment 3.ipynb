{
 "cells": [
  {
   "cell_type": "code",
   "execution_count": 1,
   "id": "f288ecba",
   "metadata": {},
   "outputs": [],
   "source": [
    "class customer:\n",
    "    def __init__(self, name, age):\n",
    "        self.name = name\n",
    "        self.age = age\n",
    "\n",
    "    def _get_name(self):\n",
    "        return self.name\n",
    "    \n",
    "    def _get_age(self):\n",
    "        return self.age\n",
    "    \n",
    "    def _set_name(self, newname):\n",
    "        self.name = newname\n",
    "    \n",
    "    def _set_age(self, newage):\n",
    "        self.age = newage\n"
   ]
  },
  {
   "cell_type": "code",
   "execution_count": 2,
   "id": "0b0532a7",
   "metadata": {},
   "outputs": [],
   "source": [
    "class MainBikeRental:\n",
    "    def __init__(self):\n",
    "        self.bikes = []\n",
    "        self.rentals = []\n",
    "\n",
    "    def get_bikes(self):\n",
    "        return self.bikes\n",
    "\n",
    "    def set_bikes(self, new_bikes):\n",
    "        self.bikes = new_bikes\n",
    "\n",
    "    def get_rentals(self):\n",
    "        return self.rentals\n",
    "\n",
    "    def set_rentals(self, new_rentals):\n",
    "        self.rentals = new_rentals\n",
    "\n",
    "    def request_bike(self, num_bikes, customer_age):\n",
    "        if customer_age <= 6:\n",
    "            print(\"Sorry, the customer must be over 6 years old.\")\n",
    "            return\n",
    "\n",
    "        if len(self.bikes) >= num_bikes:\n",
    "            self.bikes = self.bikes[num_bikes:]\n",
    "            print(f\"{num_bikes} bikes rented successfully.\")\n",
    "        else:\n",
    "            print(\"Sorry, not enough bikes available. Please wait for 10 minutes.\")\n",
    "\n",
    "    def return_bike(self, rental_time, num_bikes):\n",
    "        total_cost = rental_time * 40\n",
    "        self.bikes.extend([1] * num_bikes)\n",
    "        self.rentals.append({\"rental_time\": rental_time, \"num_bikes\": num_bikes, \"total_cost\": total_cost})\n",
    "        return total_cost\n",
    "\n",
    "    def add_bike(self, num_bikes):\n",
    "        self.bikes.extend([1] * num_bikes) \n",
    "        print(f\"{num_bikes} bikes added to the stock.\")\n",
    "\n",
    "    def total_cost(self):\n",
    "        return sum(rental[\"total_cost\"] for rental in self.rentals)"
   ]
  },
  {
   "cell_type": "code",
   "execution_count": 3,
   "id": "a52e912e",
   "metadata": {},
   "outputs": [],
   "source": [
    "class Bike:\n",
    "    def __init__(self, name, price):\n",
    "        self.name = name\n",
    "        self.price = price\n",
    "    \n",
    "    def get_name(self):\n",
    "        return self.name\n",
    "    \n",
    "    def get_price(self):\n",
    "        return self.price\n",
    "    \n",
    "    def set_name(self, new_name):\n",
    "        self.name = new_name\n",
    "    \n",
    "    def set_price(self, new_price):\n",
    "        self.price = new_price\n"
   ]
  },
  {
   "cell_type": "code",
   "execution_count": 4,
   "id": "f10e0705",
   "metadata": {},
   "outputs": [],
   "source": [
    "class ElectricBike(Bike):\n",
    "    def __init__(self, name, price, max_speed):\n",
    "        super().__init__(name, price)\n",
    "        self.max_speed = max_speed\n",
    "\n",
    "    def get_max_speed(self):\n",
    "        return self.max_speed\n",
    "\n",
    "    def set_max_speed(self, new_max_speed):\n",
    "        self.max_speed = new_max_speed\n"
   ]
  },
  {
   "cell_type": "code",
   "execution_count": 5,
   "id": "729068fd",
   "metadata": {},
   "outputs": [],
   "source": [
    "class NormalBike(Bike):\n",
    "    def __init__(self, name, price, max_speed):\n",
    "        super().__init__(name, price)\n",
    "        self.max_speed = max_speed\n",
    "\n",
    "    def get_max_speed(self):\n",
    "        return self.max_speed\n",
    "\n",
    "    def set_max_speed(self, new_max_speed):\n",
    "        self.max_speed = new_max_speed"
   ]
  },
  {
   "cell_type": "code",
   "execution_count": 6,
   "id": "bc74f209",
   "metadata": {},
   "outputs": [],
   "source": [
    "c1 = customer('Sara', 21)"
   ]
  },
  {
   "cell_type": "code",
   "execution_count": 7,
   "id": "e929e865",
   "metadata": {},
   "outputs": [
    {
     "data": {
      "text/plain": [
       "'Sara'"
      ]
     },
     "execution_count": 7,
     "metadata": {},
     "output_type": "execute_result"
    }
   ],
   "source": [
    "c1._get_name()"
   ]
  },
  {
   "cell_type": "code",
   "execution_count": 8,
   "id": "5264378c",
   "metadata": {},
   "outputs": [
    {
     "data": {
      "text/plain": [
       "21"
      ]
     },
     "execution_count": 8,
     "metadata": {},
     "output_type": "execute_result"
    }
   ],
   "source": [
    "c1._get_age()"
   ]
  },
  {
   "cell_type": "code",
   "execution_count": 9,
   "id": "8ab0d5aa",
   "metadata": {},
   "outputs": [],
   "source": [
    "c1._set_name('Lex')"
   ]
  },
  {
   "cell_type": "code",
   "execution_count": 10,
   "id": "6c9d291d",
   "metadata": {},
   "outputs": [],
   "source": [
    "c1._set_age(22)"
   ]
  },
  {
   "cell_type": "code",
   "execution_count": 11,
   "id": "ab4f1c78",
   "metadata": {},
   "outputs": [
    {
     "data": {
      "text/plain": [
       "'Lex'"
      ]
     },
     "execution_count": 11,
     "metadata": {},
     "output_type": "execute_result"
    }
   ],
   "source": [
    "c1._get_name()"
   ]
  },
  {
   "cell_type": "code",
   "execution_count": 12,
   "id": "19ef6bc2",
   "metadata": {},
   "outputs": [
    {
     "data": {
      "text/plain": [
       "22"
      ]
     },
     "execution_count": 12,
     "metadata": {},
     "output_type": "execute_result"
    }
   ],
   "source": [
    "c1._get_age()"
   ]
  },
  {
   "cell_type": "code",
   "execution_count": 13,
   "id": "9282ccd0",
   "metadata": {},
   "outputs": [
    {
     "name": "stdout",
     "output_type": "stream",
     "text": [
      "5 bikes added to the stock.\n",
      "3 bikes rented successfully.\n",
      "Total cost of rentals: $80\n",
      "Current stock of bikes: [1, 1, 1, 1]\n",
      "Rental history: [{'rental_time': 2, 'num_bikes': 2, 'total_cost': 80}]\n"
     ]
    }
   ],
   "source": [
    "bike_rental = MainBikeRental()\n",
    "bike_rental.add_bike(5)\n",
    "bike_rental.request_bike(3, 8)\n",
    "total_cost = bike_rental.return_bike(2, 2)\n",
    "print(f\"Total cost of rentals: ${total_cost}\")\n",
    "print(\"Current stock of bikes:\", bike_rental.get_bikes())\n",
    "print(\"Rental history:\", bike_rental.get_rentals())"
   ]
  },
  {
   "cell_type": "code",
   "execution_count": 14,
   "id": "131c4c37",
   "metadata": {},
   "outputs": [
    {
     "name": "stdout",
     "output_type": "stream",
     "text": [
      "Bike Name: Mountain Bike\n",
      "Bike Price: 500\n",
      "Updated Bike Name: Road Bike\n",
      "Updated Bike Price: 700\n"
     ]
    }
   ],
   "source": [
    "my_bike = Bike('Mountain Bike', 500)\n",
    "print(\"Bike Name:\", my_bike.get_name())\n",
    "print(\"Bike Price:\", my_bike.get_price())\n",
    "my_bike.set_name('Road Bike')\n",
    "my_bike.set_price(700)\n",
    "print(\"Updated Bike Name:\", my_bike.get_name())\n",
    "print(\"Updated Bike Price:\", my_bike.get_price())"
   ]
  },
  {
   "cell_type": "code",
   "execution_count": 15,
   "id": "bb65e739",
   "metadata": {},
   "outputs": [
    {
     "name": "stdout",
     "output_type": "stream",
     "text": [
      "Bike Name: Electric Mountain Bike\n",
      "Bike Price: 1000\n",
      "Max Speed: 25\n",
      "Updated Max Speed: 30\n"
     ]
    }
   ],
   "source": [
    "my_electric_bike = ElectricBike('Electric Mountain Bike', 1000, 25)\n",
    "print(\"Bike Name:\", my_electric_bike.get_name())\n",
    "print(\"Bike Price:\", my_electric_bike.get_price())\n",
    "print(\"Max Speed:\", my_electric_bike.get_max_speed())\n",
    "my_electric_bike.set_max_speed(30)\n",
    "print(\"Updated Max Speed:\", my_electric_bike.get_max_speed())"
   ]
  },
  {
   "cell_type": "code",
   "execution_count": 16,
   "id": "bad0412a",
   "metadata": {},
   "outputs": [
    {
     "name": "stdout",
     "output_type": "stream",
     "text": [
      "Bike Name: City Bike\n",
      "Bike Price: 300\n",
      "Max Speed: 20\n",
      "Updated Max Speed: 25\n"
     ]
    }
   ],
   "source": [
    "my_normal_bike = NormalBike('City Bike', 300, 20)\n",
    "print(\"Bike Name:\", my_normal_bike.get_name())\n",
    "print(\"Bike Price:\", my_normal_bike.get_price())\n",
    "print(\"Max Speed:\", my_normal_bike.get_max_speed())\n",
    "my_normal_bike.set_max_speed(25)\n",
    "print(\"Updated Max Speed:\", my_normal_bike.get_max_speed())"
   ]
  },
  {
   "cell_type": "code",
   "execution_count": null,
   "id": "78d032db",
   "metadata": {},
   "outputs": [],
   "source": []
  }
 ],
 "metadata": {
  "kernelspec": {
   "display_name": "Python 3 (ipykernel)",
   "language": "python",
   "name": "python3"
  },
  "language_info": {
   "codemirror_mode": {
    "name": "ipython",
    "version": 3
   },
   "file_extension": ".py",
   "mimetype": "text/x-python",
   "name": "python",
   "nbconvert_exporter": "python",
   "pygments_lexer": "ipython3",
   "version": "3.11.5"
  }
 },
 "nbformat": 4,
 "nbformat_minor": 5
}
